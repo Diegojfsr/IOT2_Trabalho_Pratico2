{
  "nbformat": 4,
  "nbformat_minor": 0,
  "metadata": {
    "colab": {
      "provenance": []
    },
    "kernelspec": {
      "name": "python3",
      "display_name": "Python 3"
    },
    "language_info": {
      "name": "python"
    }
  },
  "cells": [
    {
      "cell_type": "code",
      "execution_count": 3,
      "metadata": {
        "id": "6UntbHZFFbOF"
      },
      "outputs": [],
      "source": [
        "#import libraries \n",
        "import pandas as pd\n",
        "import numpy as np\n",
        "\n",
        "import seaborn as sns\n",
        "import matplotlib.pyplot as plt  "
      ]
    },
    {
      "cell_type": "code",
      "source": [
        "url='https://github.com/Diegojfsr/RNA_Trabalho_Pratico_I/blob/main/test.csv?raw=true'\n",
        "test = pd.read_csv(url)\n",
        "url='https://github.com/Diegojfsr/RNA_Trabalho_Pratico_I/blob/main/train.csv?raw=true'\n",
        "train = pd.read_csv(url)"
      ],
      "metadata": {
        "id": "dz7XCCMfF0MI"
      },
      "execution_count": 4,
      "outputs": []
    },
    {
      "cell_type": "code",
      "source": [
        "#recarregar o Dataframe substituido os valores que contenham \"?\", \"!\",\"-\", \"+\" entre outros\n",
        "train = train({\"?\": np.nan, \"!\" : np.nan})"
      ],
      "metadata": {
        "id": "tLWPyl6OK8yy"
      },
      "execution_count": null,
      "outputs": []
    },
    {
      "cell_type": "code",
      "source": [
        "display(train) # Exibe o Dataframe"
      ],
      "metadata": {
        "id": "mZvst3N5GBlB"
      },
      "execution_count": null,
      "outputs": []
    },
    {
      "cell_type": "code",
      "source": [
        "print(train.info()) # Exibe Informações do Dataframe"
      ],
      "metadata": {
        "id": "pIiXpJzJGoDP"
      },
      "execution_count": null,
      "outputs": []
    },
    {
      "cell_type": "code",
      "source": [
        "### Trata a coluna que tenha numeros, mas que não estao sendo reconhecidos como valores numericos.\n",
        "train[\"idpassager\"] = pd.to_numeric(train[\"idpassager\"], errors=\"coerce\") # errors=\"coerce\" //trata os valores que durante a conversao deram erro, deixando como vazios os espaços."
      ],
      "metadata": {
        "id": "uPhNlKXvJFtJ"
      },
      "execution_count": null,
      "outputs": []
    },
    {
      "cell_type": "code",
      "source": [
        "#print(train.isna().any()) # Exibe como True ou False os valores do Dataframe\n",
        "print(train.isna().sum()) # Exibe a soma dos valores no Dataframe"
      ],
      "metadata": {
        "id": "3Go7tB9NHI1j"
      },
      "execution_count": null,
      "outputs": []
    },
    {
      "cell_type": "code",
      "source": [
        "####Removendo Valores Vazios\n",
        "# 0 : exclui linhas\n",
        "# 1 : exclui colunas\n",
        "# any : exclui onde tenha pelo menos 1 item vazio\n",
        "# all : exclui onde tenha pelo menos 1 item vazio\n",
        "\n",
        "train = train.dropna(how=\"any\", axis=0)"
      ],
      "metadata": {
        "id": "_Zfs8AroJDiu"
      },
      "execution_count": null,
      "outputs": []
    },
    {
      "cell_type": "code",
      "source": [
        "#### Tratando valores vazios\n",
        "# Preenchendo com a media\n",
        "\n",
        "media = train[\"idpassager\"].mean()\n",
        "train[\"idpassager\"] = train[\"idpassager\"].fillna(media)\n",
        "display(train)"
      ],
      "metadata": {
        "id": "LfVBo9bIOJJf"
      },
      "execution_count": null,
      "outputs": []
    },
    {
      "cell_type": "code",
      "source": [
        "#### Tratando valores vazios\n",
        "# Preenchendo com valores anteriores / posteriores\n",
        "\n",
        "train[\"idpassager\"] = train[\"idpassager\"].fillna(method=\"ffill\") # preenche com valor anterior\n",
        "train[\"idpassager\"] = train[\"idpassager\"].fillna(method=\"bfill\") # preenche com valor posterior\n",
        "display(train)"
      ],
      "metadata": {
        "id": "taxkbE-kPEIl"
      },
      "execution_count": null,
      "outputs": []
    },
    {
      "cell_type": "code",
      "source": [
        "#### Tratando valores vazios\n",
        "# Preenchendo com valores com interpolação\n",
        "\n",
        "train[\"idpassager\"] = train[\"idpassager\"].interpolate()\n",
        "display(train)"
      ],
      "metadata": {
        "id": "E4zrwqu2Qerp"
      },
      "execution_count": null,
      "outputs": []
    }
  ]
}