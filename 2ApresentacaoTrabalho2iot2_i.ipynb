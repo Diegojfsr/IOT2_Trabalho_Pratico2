{
  "nbformat": 4,
  "nbformat_minor": 0,
  "metadata": {
    "colab": {
      "provenance": []
    },
    "kernelspec": {
      "name": "python3",
      "display_name": "Python 3"
    },
    "language_info": {
      "name": "python"
    }
  },
  "cells": [
    {
      "cell_type": "markdown",
      "source": [
        "-------------------------------------------------------------------------------\n",
        "#Imports"
      ],
      "metadata": {
        "id": "RWbcLA_hDnH7"
      }
    },
    {
      "cell_type": "code",
      "execution_count": 1,
      "metadata": {
        "id": "0VAjzc6Eh1-M"
      },
      "outputs": [],
      "source": [
        "import requests\n",
        "import json\n",
        "from pprint import pprint\n",
        "import pandas as pd"
      ]
    },
    {
      "cell_type": "code",
      "source": [
        "import json\n",
        "from pprint import pprint\n",
        "import pandas as pd\n",
        "\n",
        "import sklearn\n",
        "import statsmodels as sm"
      ],
      "metadata": {
        "id": "t26POOD8h8J2"
      },
      "execution_count": 2,
      "outputs": []
    },
    {
      "cell_type": "code",
      "source": [
        "import matplotlib.pyplot as plt\n",
        "from matplotlib.patches import Rectangle\n",
        "import matplotlib.dates as mdates"
      ],
      "metadata": {
        "id": "j-feOpeHh-lM"
      },
      "execution_count": 3,
      "outputs": []
    },
    {
      "cell_type": "code",
      "source": [
        "import matplotlib.pyplot as plt\n",
        "import plotly.express as px\n",
        "import missingno"
      ],
      "metadata": {
        "id": "sjbKMXsHiA8L"
      },
      "execution_count": 4,
      "outputs": []
    },
    {
      "cell_type": "code",
      "source": [
        "#importar bibliotecas\n",
        "import pandas as pd\n",
        "import numpy as np\n",
        "from sklearn.preprocessing import LabelEncoder\n",
        "from sklearn.preprocessing import StandardScaler\n",
        "from sklearn.ensemble import RandomForestClassifier"
      ],
      "metadata": {
        "id": "gKA3MZTnjntZ"
      },
      "execution_count": 386,
      "outputs": []
    },
    {
      "cell_type": "markdown",
      "source": [
        "--------------------------------------------------------------------------------\n",
        "#Obtenção dos dados"
      ],
      "metadata": {
        "id": "0KQmFh-7EABA"
      }
    },
    {
      "cell_type": "code",
      "source": [],
      "metadata": {
        "id": "FW-Ck4LmD6Zn"
      },
      "execution_count": null,
      "outputs": []
    },
    {
      "cell_type": "code",
      "source": [
        "orig = pd.read_csv('/content/orig_submission_final.csv')\n",
        "#orig\n",
        "\n",
        "miss = pd.read_csv('/content/miss_submission_final.csv')\n",
        "#miss"
      ],
      "metadata": {
        "id": "TDD6AYpqlIja"
      },
      "execution_count": 554,
      "outputs": []
    },
    {
      "cell_type": "code",
      "source": [
        "miss.info(verbose=True)"
      ],
      "metadata": {
        "id": "jRVPDFNYmNfK"
      },
      "execution_count": null,
      "outputs": []
    },
    {
      "cell_type": "code",
      "source": [
        "##### Verificando os valores e colunas #####\n",
        "\n",
        "#display(miss) # Exibe o Dataframe\n",
        "\n",
        "#print(miss.isna().any()) # Exibe como True ou False os valores nan do Dataframe\n",
        "#print(miss.isna().sum()) # Exibe a soma dos valores nan no Dataframe\n",
        "#miss.head()\n",
        "#miss.info(verbose=True)\n",
        "#print(miss.info())\n",
        "#miss.shape\n",
        "#miss.isna().sum()\n",
        "#miss.isnull().sum()\n",
        "#type(miss)"
      ],
      "metadata": {
        "id": "iKHe14VflcoN"
      },
      "execution_count": null,
      "outputs": []
    },
    {
      "cell_type": "code",
      "source": [
        "### Trata a coluna que tenha numeros, mas que não estao sendo reconhecidos como valores numericos.\n",
        "orig[\"temp\"] = pd.to_numeric(orig[\"temp\"], errors=\"coerce\") # errors=\"coerce\" //trata os valores que durante a conversao deram erro, deixando como vazios os espaços.\n",
        "\n",
        "### Trata a coluna que tenha numeros, mas que não estao sendo reconhecidos como valores numericos.\n",
        "miss[\"temp\"] = pd.to_numeric(miss[\"temp\"], errors=\"coerce\") # errors=\"coerce\" //trata os valores que durante a conversao deram erro, deixando como vazios os espaços."
      ],
      "metadata": {
        "id": "QCfyruGNmq5u"
      },
      "execution_count": 555,
      "outputs": []
    },
    {
      "cell_type": "code",
      "source": [
        "miss.info(verbose=True)"
      ],
      "metadata": {
        "id": "62xigGy3vMvl"
      },
      "execution_count": null,
      "outputs": []
    },
    {
      "cell_type": "code",
      "source": [],
      "metadata": {
        "id": "_mBf6FDgmXBG"
      },
      "execution_count": 410,
      "outputs": []
    },
    {
      "cell_type": "markdown",
      "source": [
        "--------------------------------------------------------------------------------\n",
        "# Tratando valores vazios\n",
        "--------------------------------------------------------------------------------"
      ],
      "metadata": {
        "id": "itNf5eARfP1o"
      }
    },
    {
      "cell_type": "code",
      "source": [
        "#### Tratando valores vazios\n",
        "# Preenchendo com a media\n",
        "\n",
        "media = miss[\"temp\"].mean()\n",
        "miss[\"temp\"] = miss[\"temp\"].fillna(media)\n",
        "display(miss)"
      ],
      "metadata": {
        "id": "6BvuaXXWnHA0"
      },
      "execution_count": null,
      "outputs": []
    },
    {
      "cell_type": "code",
      "source": [
        "#### Tratando valores vazios\n",
        "# Preenchendo com valores anteriores / posteriores\n",
        "\n",
        "miss[\"temp\"] = miss[\"temp\"].fillna(method=\"ffill\") # preenche com valor anterior\n",
        "miss[\"temp\"] = miss[\"temp\"].fillna(method=\"bfill\") # preenche com valor posterior\n",
        "display(miss)"
      ],
      "metadata": {
        "id": "hWqyWjvsngQc"
      },
      "execution_count": null,
      "outputs": []
    },
    {
      "cell_type": "code",
      "source": [
        "#### Tratando valores vazios\n",
        "# Preenchendo com valores com interpolação\n",
        "\n",
        "miss[\"temp\"] = miss[\"temp\"].interpolate()\n",
        "display(miss)"
      ],
      "metadata": {
        "id": "cNyZ4xVtoB7a"
      },
      "execution_count": null,
      "outputs": []
    },
    {
      "cell_type": "markdown",
      "source": [
        "#Tratando Outliars"
      ],
      "metadata": {
        "id": "czhk7ld-7gmv"
      }
    },
    {
      "cell_type": "code",
      "source": [],
      "metadata": {
        "id": "Yf2LZa3X9KgX"
      },
      "execution_count": null,
      "outputs": []
    },
    {
      "cell_type": "code",
      "source": [],
      "metadata": {
        "id": "eSXa_QDV9Kcp"
      },
      "execution_count": null,
      "outputs": []
    },
    {
      "cell_type": "code",
      "source": [],
      "metadata": {
        "id": "B7X4w5KG9KZK"
      },
      "execution_count": null,
      "outputs": []
    },
    {
      "cell_type": "markdown",
      "source": [
        "--------------------------------------------------------------------------------\n",
        "# Tratando Dados Categoricos\n",
        "--------------------------------------------------------------------------------"
      ],
      "metadata": {
        "id": "TjWOibzsfc3n"
      }
    },
    {
      "cell_type": "code",
      "source": [
        "import pandas as pd\n",
        "from sklearn.ensemble import RandomForestClassifier\n",
        "from sklearn.metrics import accuracy_score\n",
        "from sklearn.model_selection import train_test_split"
      ],
      "metadata": {
        "id": "L3OC6x3KodhB"
      },
      "execution_count": 392,
      "outputs": []
    },
    {
      "cell_type": "code",
      "source": [
        "! pip install category_encoders\n",
        "\n",
        "from category_encoders.one_hot import OneHotEncoder, OrdinalEncoder"
      ],
      "metadata": {
        "id": "VyrDeICWjvsr"
      },
      "execution_count": null,
      "outputs": []
    },
    {
      "cell_type": "code",
      "source": [
        "### miss\n",
        "## Bloco de codigo para converter os valores categoricos de time\n",
        "\n",
        "miss['temp'].unique() # Separa os valores categoricos\n",
        "\n",
        "enc = OrdinalEncoder()\n",
        "enc.fit_transform(miss[['temp']])\n",
        "miss[['temp']] = enc.fit_transform(miss[['temp']])\n",
        "\n",
        "#---------------------------------------------------------------------------\n",
        "\n",
        "### orig\n",
        "## Bloco de codigo para converter os valores categoricos de time\n",
        "\n",
        "orig['temp'].unique() # Separa os valores categoricos\n",
        "\n",
        "enc = OrdinalEncoder()\n",
        "enc.fit_transform(orig[['temp']])\n",
        "orig[['temp']] = enc.fit_transform(orig[['temp']])\n",
        "\n"
      ],
      "metadata": {
        "id": "6iwECJtkjvoP"
      },
      "execution_count": null,
      "outputs": []
    },
    {
      "cell_type": "code",
      "source": [
        "miss.info(verbose=True)"
      ],
      "metadata": {
        "id": "aucEORFlttN2"
      },
      "execution_count": null,
      "outputs": []
    },
    {
      "cell_type": "code",
      "source": [],
      "metadata": {
        "id": "WL_GIgMOrlXY"
      },
      "execution_count": 456,
      "outputs": []
    },
    {
      "cell_type": "code",
      "source": [
        "## Bloco de codigo para converter os valores object em datatime\n",
        "\n",
        "orig.time = pd.to_datetime(orig.time)\n",
        "miss.time = pd.to_datetime(miss.time)"
      ],
      "metadata": {
        "id": "OPmG0chGuw7a"
      },
      "execution_count": 558,
      "outputs": []
    },
    {
      "cell_type": "code",
      "source": [
        "miss.head()"
      ],
      "metadata": {
        "id": "AAZwiII9uw3r"
      },
      "execution_count": null,
      "outputs": []
    },
    {
      "cell_type": "code",
      "source": [
        "miss.set_index('time', inplace=True)\n",
        "orig.set_index('time', inplace=True)"
      ],
      "metadata": {
        "id": "PIwJs5fM3klF"
      },
      "execution_count": 560,
      "outputs": []
    },
    {
      "cell_type": "code",
      "source": [],
      "metadata": {
        "id": "A2so3mhD3rbC"
      },
      "execution_count": 536,
      "outputs": []
    },
    {
      "cell_type": "code",
      "source": [
        "miss.plot()"
      ],
      "metadata": {
        "id": "H6kGlYWF4OCY"
      },
      "execution_count": null,
      "outputs": []
    },
    {
      "cell_type": "markdown",
      "source": [
        "--------------------------------------------------------------------------------\n",
        "# Montando o Modelo\n",
        "--------------------------------------------------------------------------------"
      ],
      "metadata": {
        "id": "XzSLHJGKskWx"
      }
    },
    {
      "cell_type": "code",
      "source": [
        "variaveis = ['time','temp']"
      ],
      "metadata": {
        "id": "pBZ7NENmEzBL"
      },
      "execution_count": 530,
      "outputs": []
    },
    {
      "cell_type": "code",
      "source": [
        "x = miss[variaveis]\n",
        "y = miss['temp']"
      ],
      "metadata": {
        "id": "M0vdOJ4mo1gY"
      },
      "execution_count": 531,
      "outputs": []
    },
    {
      "cell_type": "code",
      "source": [
        "X_train, X_test, y_train, y_test = train_test_split(x, y, test_size = 0.2, random_state=0)"
      ],
      "metadata": {
        "id": "F1gTGGRtpYcG"
      },
      "execution_count": 532,
      "outputs": []
    },
    {
      "cell_type": "code",
      "source": [
        "modelo = RandomForestClassifier(n_estimators=100, n_jobs=-1, random_state=0)"
      ],
      "metadata": {
        "id": "Iggz6EskpqJ-"
      },
      "execution_count": 533,
      "outputs": []
    },
    {
      "cell_type": "code",
      "source": [
        "modelo.fit(X_train, y_train)"
      ],
      "metadata": {
        "id": "OXOGhl7qpz_N"
      },
      "execution_count": null,
      "outputs": []
    },
    {
      "cell_type": "code",
      "source": [
        "y_pred = modelo.predict(X_test)"
      ],
      "metadata": {
        "id": "tOLBS8dB7uAb"
      },
      "execution_count": 484,
      "outputs": []
    },
    {
      "cell_type": "code",
      "source": [
        "print('Acurácia:', accuracy_score(y_test, y_pred) * 100)"
      ],
      "metadata": {
        "id": "i9muh-REqb33"
      },
      "execution_count": null,
      "outputs": []
    },
    {
      "cell_type": "code",
      "source": [],
      "metadata": {
        "id": "InYAo0Wr7wra"
      },
      "execution_count": 324,
      "outputs": []
    },
    {
      "cell_type": "code",
      "source": [],
      "metadata": {
        "id": "HQt4jMilEgcZ"
      },
      "execution_count": null,
      "outputs": []
    },
    {
      "cell_type": "code",
      "source": [],
      "metadata": {
        "id": "zOPO_C7VDvKQ"
      },
      "execution_count": 351,
      "outputs": []
    },
    {
      "cell_type": "code",
      "source": [],
      "metadata": {
        "id": "dQWmIZLxWrv3"
      },
      "execution_count": 336,
      "outputs": []
    },
    {
      "cell_type": "code",
      "source": [],
      "metadata": {
        "id": "j0qM8rZBq1da"
      },
      "execution_count": 351,
      "outputs": []
    }
  ]
}