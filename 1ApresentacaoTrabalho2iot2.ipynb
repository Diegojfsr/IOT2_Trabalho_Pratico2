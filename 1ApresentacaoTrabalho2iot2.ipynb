{
  "nbformat": 4,
  "nbformat_minor": 0,
  "metadata": {
    "colab": {
      "provenance": []
    },
    "kernelspec": {
      "name": "python3",
      "display_name": "Python 3"
    },
    "language_info": {
      "name": "python"
    }
  },
  "cells": [
    {
      "cell_type": "code",
      "execution_count": null,
      "metadata": {
        "id": "CRYrrToeNsiF"
      },
      "outputs": [],
      "source": [
        "import requests\n",
        "import json\n",
        "from pprint import pprint\n",
        "import pandas as pd\n"
      ]
    },
    {
      "cell_type": "code",
      "source": [
        "import json\n",
        "from pprint import pprint\n",
        "import pandas as pd\n",
        "\n",
        "import sklearn\n",
        "import statsmodels as sm"
      ],
      "metadata": {
        "id": "4yRgtB4dN2hE"
      },
      "execution_count": null,
      "outputs": []
    },
    {
      "cell_type": "code",
      "source": [
        "import matplotlib.pyplot as plt\n",
        "from matplotlib.patches import Rectangle\n",
        "import matplotlib.dates as mdates"
      ],
      "metadata": {
        "id": "FotF_CesN6R8"
      },
      "execution_count": null,
      "outputs": []
    },
    {
      "cell_type": "code",
      "source": [
        "import matplotlib.pyplot as plt\n",
        "import plotly.express as px\n",
        "import missingno"
      ],
      "metadata": {
        "id": "9hBug9qjN9HW"
      },
      "execution_count": null,
      "outputs": []
    },
    {
      "cell_type": "code",
      "source": [
        "# essa linha importa os recursos\n",
        "import json, requests\n",
        "\n",
        "# essa linha pega os recursos do link e atribui a variavel\n",
        "\n",
        "# requisicao1 = requests.get(\"http://3.145.163.55:5000/dados/1/3/2020/2020\")\n",
        "# requisicao2 = requests.get(\"http://3.145.163.55:5000/dados/3/6/2020/2020\")\n",
        "# requisicao3 = requests.get(\"http://3.145.163.55:5000/dados/6/9/2020/2020\")\n",
        "\n",
        "requisicao = requests.get(\"http://3.145.163.55:5000/dados/1/2/2020/2020\")\n",
        "\n",
        "\n",
        "# realiza a conversão do response para um formato acessível ao python\n",
        "data = (requisicao.json())\n",
        "data"
      ],
      "metadata": {
        "id": "g6SAeA_KOAZT"
      },
      "execution_count": null,
      "outputs": []
    },
    {
      "cell_type": "code",
      "source": [
        "## Quebrando o json em 2 dataframes (missing, original)\n",
        "## Trabalhando com os valores de missing\n",
        "\n",
        "miss = data['missing']\n",
        "orig = data['original']\n",
        "print (miss)"
      ],
      "metadata": {
        "id": "zhpuFACLOD77"
      },
      "execution_count": null,
      "outputs": []
    },
    {
      "cell_type": "code",
      "source": [
        "df_miss=json.loads(miss)\n",
        "df_orig=json.loads(orig)"
      ],
      "metadata": {
        "id": "TDKdVeXCOIqj"
      },
      "execution_count": null,
      "outputs": []
    },
    {
      "cell_type": "code",
      "source": [
        "### Dados miss\n",
        "\n",
        "teste_miss = df_miss  # varival teste rescebe o data frame df\n",
        "display(teste_miss) # Exibe o Dataframe já quebrado"
      ],
      "metadata": {
        "id": "446F6NMUOTdL"
      },
      "execution_count": null,
      "outputs": []
    },
    {
      "cell_type": "code",
      "source": [
        "### Dados orig\n",
        "\n",
        "teste_orig = df_orig  # varival teste rescebe o data frame df\n",
        "display(teste_orig) # Exibe o Dataframe já quebrado"
      ],
      "metadata": {
        "id": "BSWCmevjOvSz"
      },
      "execution_count": null,
      "outputs": []
    },
    {
      "cell_type": "code",
      "source": [
        "#///////////////////////////  ### Separação dos dados #/////////////////////////// "
      ],
      "metadata": {
        "id": "nQMWOKdxPAvS"
      },
      "execution_count": null,
      "outputs": []
    },
    {
      "cell_type": "code",
      "source": [
        "### Dados miss\n",
        "\n",
        "id_miss = teste_miss['index'] # cria o array id com os dados de index\n",
        "cl_miss = teste_miss['columns'] #cria o array cl com os dados de columns\n",
        "dt_miss = teste_miss['data']  #cria o array de dt com os dados de data"
      ],
      "metadata": {
        "id": "5x6B16LuPGdh"
      },
      "execution_count": null,
      "outputs": []
    },
    {
      "cell_type": "code",
      "source": [
        "### Dados orig\n",
        "\n",
        "id_orig = teste_orig['index'] # cria o array id com os dados de index\n",
        "cl_orig = teste_orig['columns'] #cria o array cl com os dados de columns\n",
        "dt_orig = teste_orig['data']  #cria o array de dt com os dados de data"
      ],
      "metadata": {
        "id": "9H7oD31SPqfK"
      },
      "execution_count": null,
      "outputs": []
    },
    {
      "cell_type": "code",
      "source": [
        "#///////////////////////////  ### Conversao dos dados #/////////////////////////// "
      ],
      "metadata": {
        "id": "sNbs8cSaQFUI"
      },
      "execution_count": null,
      "outputs": []
    },
    {
      "cell_type": "code",
      "source": [
        "# Convertendo os arrays em colunas\n",
        "\n",
        "df_dt_miss = pd.DataFrame(dt_miss)\n",
        "df_dt_orig = pd.DataFrame(dt_orig)"
      ],
      "metadata": {
        "id": "gYp-AuBRQJaW"
      },
      "execution_count": null,
      "outputs": []
    },
    {
      "cell_type": "code",
      "source": [
        "#///////////////////////////  ### Renomeando as Colunas('0','1'//'time','temp') #/////////////////////////// "
      ],
      "metadata": {
        "id": "TAq9TBuvRFOt"
      },
      "execution_count": null,
      "outputs": []
    },
    {
      "cell_type": "code",
      "source": [
        "### Renomear Colunas Dataset\n",
        "\n",
        "df_dt_miss.columns = ['time', 'temp']  #Renomeia as Colunas do DataSet\n",
        "df_dt_orig.columns = ['time', 'temp']  #Renomeia as Colunas do DataSet"
      ],
      "metadata": {
        "id": "EPeCnwcZRKx0"
      },
      "execution_count": null,
      "outputs": []
    },
    {
      "cell_type": "code",
      "source": [
        "### criar um arquivo csv de saída como submit.csv\n",
        "df_dt_orig.to_csv('orig_submission_final.csv', index=False)\n",
        "print('submission_final.csv foi salvo!')\n",
        "\n",
        "#submit_final.csv foi salvo!"
      ],
      "metadata": {
        "id": "_5vvCQvFdJTb"
      },
      "execution_count": null,
      "outputs": []
    },
    {
      "cell_type": "code",
      "source": [
        "#///////////////////////////  ### Iniciando o Tratamento dos Dados(missing data) #/////////////////////////// "
      ],
      "metadata": {
        "id": "wWhzaESfRjHE"
      },
      "execution_count": null,
      "outputs": []
    },
    {
      "cell_type": "code",
      "source": [
        "import numpy as np"
      ],
      "metadata": {
        "id": "dZY17XnESbhn"
      },
      "execution_count": null,
      "outputs": []
    },
    {
      "cell_type": "code",
      "source": [
        "### Dados miss\n",
        "\n",
        "print('Media:', np.mean(df_dt_miss))\n",
        "print('Desvio Padrao:', np.std(df_dt_miss))\n",
        "print('Coeficiente variacao:', np.std(df_dt_miss)/np.mean(df_dt_miss))"
      ],
      "metadata": {
        "id": "c-AknspIRpdV"
      },
      "execution_count": null,
      "outputs": []
    },
    {
      "cell_type": "code",
      "source": [
        "### Dados orig\n",
        "\n",
        "print('Media:', np.mean(df_dt_orig))\n",
        "print('Desvio Padrao:', np.std(df_dt_orig))\n",
        "print('Coeficiente variacao:', np.std(df_dt_orig)/np.mean(df_dt_orig))"
      ],
      "metadata": {
        "id": "ukWfAOdAShFu"
      },
      "execution_count": null,
      "outputs": []
    },
    {
      "cell_type": "code",
      "source": [
        "#///////////////////////////  ### Identificando Dados Faltantes | Tecnica I (fillna) #/////////////////////////// "
      ],
      "metadata": {
        "id": "qh-ax1MaS3bO"
      },
      "execution_count": null,
      "outputs": []
    },
    {
      "cell_type": "code",
      "source": [
        "### Dados miss\n",
        "# Identificando Dados Faltantes\n",
        "\n",
        "df_dt_miss = pd.DataFrame(dt_miss)#conversao em colunas\n",
        "df_dt_miss.columns = ['time', 'temp']  #Renomeia as Colunas do DataSet\n",
        "display(df_dt_miss)#Exibe o dataframe"
      ],
      "metadata": {
        "id": "dZq1J0HJTApZ"
      },
      "execution_count": null,
      "outputs": []
    },
    {
      "cell_type": "code",
      "source": [
        "### Dados orig\n",
        "# Identificando Dados Faltantes\n",
        "\n",
        "df_dt_orig = pd.DataFrame(dt_orig)#conversao em colunas\n",
        "df_dt_orig.columns = ['time', 'temp']  #Renomeia as Colunas do DataSet\n",
        "display(df_dt_orig)#Exibe o dataframe"
      ],
      "metadata": {
        "id": "-PJ2o8cLTkma"
      },
      "execution_count": null,
      "outputs": []
    },
    {
      "cell_type": "code",
      "source": [
        "### Dados miss\n",
        "## Tecnica de fillna | Substitui os dados faltantes por um valor especifico\n",
        "\n",
        "df_dt_miss_tec1 = pd.DataFrame(df_dt_miss) #df_tec1 recebe o dataframe df_dt\n",
        "df_dt_miss_tec1['temp'].fillna(8.3, inplace=True) # troquei os valores faltantes por 8.3\n",
        "df_dt_miss_tec1['temp'].astype(np.int64) # converte os valores de float para int"
      ],
      "metadata": {
        "id": "3ZCWstubURTY"
      },
      "execution_count": null,
      "outputs": []
    },
    {
      "cell_type": "code",
      "source": [
        "### Dados orig\n",
        "## Tecnica de fillna | Substitui os dados faltantes por um valor especifico\n",
        "\n",
        "df_dt_orig_tec1 = pd.DataFrame(df_dt_orig) #df_tec1 recebe o dataframe df_dt\n",
        "df_dt_orig_tec1['temp'].fillna(8.3, inplace=True) # troquei os valores faltantes por 8.3\n",
        "df_dt_orig_tec1['temp'].astype(np.int64) # converte os valores de float para int"
      ],
      "metadata": {
        "id": "OHmYmNamT7WX"
      },
      "execution_count": null,
      "outputs": []
    },
    {
      "cell_type": "code",
      "source": [
        "#///////////////////////////  ### Protar o Grafico #/////////////////////////// "
      ],
      "metadata": {
        "id": "9LcMvi4_U7rr"
      },
      "execution_count": null,
      "outputs": []
    },
    {
      "cell_type": "code",
      "source": [
        "##  Reseta os valores de df_dt\n",
        "\n",
        "df_dt_miss = pd.DataFrame(dt_miss)#conversao em colunas\n",
        "df_dt_miss.columns = ['time', 'temp']  #Renomeia as Colunas do DataSet\n",
        "display(df_dt_orig)#Exibe o dataframe"
      ],
      "metadata": {
        "id": "0utZMb68VlHb"
      },
      "execution_count": null,
      "outputs": []
    },
    {
      "cell_type": "code",
      "source": [
        "### Dados miss\n",
        "# Exibe um grafico de barras com os dados time e temp\n",
        "\n",
        "#missingno.bar(df_dt_miss) # Antes de tratar\n",
        "missingno.bar(df_dt_miss_tec1) # Depois de tratar"
      ],
      "metadata": {
        "id": "mElPkzJjVMoU"
      },
      "execution_count": null,
      "outputs": []
    },
    {
      "cell_type": "code",
      "source": [
        "### Dados orig\n",
        "# Exibe um grafico de barras com os dados time e temp\n",
        "\n",
        "missingno.bar(df_dt_orig) # Antes de tratar\n",
        "#missingno.bar(df_dt_orig_tec1) # Depois de tratar"
      ],
      "metadata": {
        "id": "NDlAH_ItWALN"
      },
      "execution_count": null,
      "outputs": []
    },
    {
      "cell_type": "code",
      "source": [],
      "metadata": {
        "id": "HPcym3SRXAuZ"
      },
      "execution_count": null,
      "outputs": []
    },
    {
      "cell_type": "code",
      "source": [],
      "metadata": {
        "id": "wwKLTwBSXO0q"
      },
      "execution_count": null,
      "outputs": []
    },
    {
      "cell_type": "code",
      "source": [],
      "metadata": {
        "id": "vISRBwfSXApm"
      },
      "execution_count": null,
      "outputs": []
    },
    {
      "cell_type": "code",
      "source": [
        "####  Manipulando dados ausentes com imputação univariada usando pandas"
      ],
      "metadata": {
        "id": "oMH3vI4vXAkX"
      },
      "execution_count": null,
      "outputs": []
    },
    {
      "cell_type": "code",
      "source": [
        "import matplotlib.pyplot as plt"
      ],
      "metadata": {
        "id": "oBRl_Uy8cN00"
      },
      "execution_count": null,
      "outputs": []
    },
    {
      "cell_type": "code",
      "source": [
        "#(df_dt_miss) # Antes de tratar\n",
        "#(df_dt_miss_tec1) # Depois de tratar\n",
        "\n",
        "plt.plot(df_dt_miss, df_dt_miss_tec1 )\n",
        "plt.show()"
      ],
      "metadata": {
        "id": "ZtRQ0PHHXq87"
      },
      "execution_count": null,
      "outputs": []
    },
    {
      "cell_type": "code",
      "source": [
        "\n"
      ],
      "metadata": {
        "id": "0HhjeIBGXAfM"
      },
      "execution_count": null,
      "outputs": []
    },
    {
      "cell_type": "code",
      "source": [
        "# dt_miss = teste_miss['data']  #cria o array de dt com os dados de data\n",
        "# dt_orig = teste_orig['data']  #cria o array de dt com os dados de data\n",
        "# df_dt_miss.columns = ['time', 'temp']  #Renomeia as Colunas do DataSet\n",
        "\n"
      ],
      "metadata": {
        "id": "Hn3wbRw-XAar"
      },
      "execution_count": null,
      "outputs": []
    },
    {
      "cell_type": "code",
      "source": [],
      "metadata": {
        "id": "O4yeRoF6XAU8"
      },
      "execution_count": null,
      "outputs": []
    },
    {
      "cell_type": "code",
      "source": [],
      "metadata": {
        "id": "chrb_0l7XAQG"
      },
      "execution_count": null,
      "outputs": []
    }
  ]
}