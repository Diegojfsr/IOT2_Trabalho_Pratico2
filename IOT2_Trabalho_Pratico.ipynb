{
  "nbformat": 4,
  "nbformat_minor": 0,
  "metadata": {
    "colab": {
      "provenance": []
    },
    "kernelspec": {
      "name": "python3",
      "display_name": "Python 3"
    },
    "language_info": {
      "name": "python"
    }
  },
  "cells": [
    {
      "cell_type": "markdown",
      "source": [
        "# Configurações da biblioteca"
      ],
      "metadata": {
        "id": "_pYUeNlBjUXO"
      }
    },
    {
      "cell_type": "code",
      "source": [
        "! pip install flatten_json"
      ],
      "metadata": {
        "id": "0ES8VVIX6nrs"
      },
      "execution_count": null,
      "outputs": []
    },
    {
      "cell_type": "code",
      "source": [
        "! pip install requests"
      ],
      "metadata": {
        "id": "7y9obY556re8"
      },
      "execution_count": null,
      "outputs": []
    },
    {
      "cell_type": "code",
      "source": [
        "! pip install missingno"
      ],
      "metadata": {
        "id": "6Luyd2yYhhEz"
      },
      "execution_count": null,
      "outputs": []
    },
    {
      "cell_type": "code",
      "source": [
        "import requests\n",
        "import json\n",
        "from pprint import pprint\n",
        "import pandas as pd\n",
        "from flatten_json import flatten"
      ],
      "metadata": {
        "id": "K2YrYJDY6seM"
      },
      "execution_count": null,
      "outputs": []
    },
    {
      "cell_type": "markdown",
      "source": [
        "Import Basico.(Recomendado)"
      ],
      "metadata": {
        "id": "4LMO30CM6znj"
      }
    },
    {
      "cell_type": "code",
      "execution_count": 210,
      "metadata": {
        "id": "yLvvCSqpPkWU"
      },
      "outputs": [],
      "source": [
        "import json\n",
        "from pprint import pprint\n",
        "import pandas as pd\n",
        "\n",
        "import sklearn\n",
        "import statsmodels as sm\n"
      ]
    },
    {
      "cell_type": "code",
      "source": [
        "import matplotlib.pyplot as plt\n",
        "from matplotlib.patches import Rectangle\n",
        "import matplotlib.dates as mdates"
      ],
      "metadata": {
        "id": "A0UTwsxUwFAS"
      },
      "execution_count": 212,
      "outputs": []
    },
    {
      "cell_type": "code",
      "source": [
        "import matplotlib.pyplot as plt\n",
        "import plotly.express as px\n",
        "import missingno"
      ],
      "metadata": {
        "id": "mSkJTC4Fvv8i"
      },
      "execution_count": 211,
      "outputs": []
    },
    {
      "cell_type": "markdown",
      "source": [
        "# Obtenção dos dados"
      ],
      "metadata": {
        "id": "aVyd4S8ajcOC"
      }
    },
    {
      "cell_type": "markdown",
      "source": [
        "Obtencao dos Dados apartir de arquivo hospedado no diretorio do Calab."
      ],
      "metadata": {
        "id": "c940fPeE7Uxg"
      }
    },
    {
      "cell_type": "code",
      "source": [
        "#with open('/content/dados.json') as arquivo_json:\n",
        "    # objeto python recebendo o carregamento de um arquivo json\n",
        "    #dados = json.load(arquivo_json)\n",
        "\n",
        "#dados"
      ],
      "metadata": {
        "id": "5deItjYO7ApF"
      },
      "execution_count": null,
      "outputs": []
    },
    {
      "cell_type": "markdown",
      "source": [
        "Obtencao dos Dados apartir de Requisicao direta via Link.(Recomendado)"
      ],
      "metadata": {
        "id": "OF1KXtAH7DJN"
      }
    },
    {
      "cell_type": "code",
      "source": [
        "# essa linha importa os recursos\n",
        "import json, requests\n",
        "\n",
        "# essa linha pega os recursos do link e atribui a variavel\n",
        "\n",
        "# requisicao1 = requests.get(\"http://3.145.163.55:5000/dados/1/3/2020/2020\")\n",
        "# requisicao2 = requests.get(\"http://3.145.163.55:5000/dados/3/6/2020/2020\")\n",
        "# requisicao3 = requests.get(\"http://3.145.163.55:5000/dados/6/9/2020/2020\")\n",
        "\n",
        "requisicao = requests.get(\"http://3.145.163.55:5000/dados/1/2/2020/2020\")\n",
        "\n",
        "\n",
        "# realiza a conversão do response para um formato acessível ao python\n",
        "data = (requisicao.json())\n",
        "data"
      ],
      "metadata": {
        "id": "zFYmmv2zPzPr"
      },
      "execution_count": null,
      "outputs": []
    },
    {
      "cell_type": "code",
      "source": [
        "type(data)"
      ],
      "metadata": {
        "id": "AFc3OBfNP2V8"
      },
      "execution_count": null,
      "outputs": []
    },
    {
      "cell_type": "code",
      "source": [
        "## Quebrando o json em 2 dataframes (missing, original)\n",
        "## Trabalhando com os valores de missing\n",
        "\n",
        "miss = data['missing']\n",
        "orig = data['original']\n",
        "print (miss)"
      ],
      "metadata": {
        "id": "mX-j1WlZP5ky"
      },
      "execution_count": null,
      "outputs": []
    },
    {
      "cell_type": "markdown",
      "source": [
        "# Visualização dos dados"
      ],
      "metadata": {
        "id": "imCN466xjsvV"
      }
    },
    {
      "cell_type": "code",
      "source": [
        "##### Verificando os valores e colunas #####\n",
        "\n",
        "#display(miss) # Exibe o Dataframe\n",
        "\n",
        "#print(miss.isna().any()) # Exibe como True ou False os valores nan do Dataframe\n",
        "#print(miss.isna().sum()) # Exibe a soma dos valores nan no Dataframe\n",
        "#miss.head()\n",
        "#miss.info(verbose=True)\n",
        "#print(miss.info())\n",
        "#miss.shape\n",
        "#miss.isna().sum()\n",
        "#miss.isnull().sum()\n",
        "#type(miss)"
      ],
      "metadata": {
        "id": "Su1EforCQAOL"
      },
      "execution_count": null,
      "outputs": []
    },
    {
      "cell_type": "code",
      "source": [
        "##Converte o array json em dict tratado, separados por chaves e valores\n",
        "\n",
        "df=json.loads(miss)\n",
        "print (df)"
      ],
      "metadata": {
        "id": "IyJ_9kWeQE6E"
      },
      "execution_count": null,
      "outputs": []
    },
    {
      "cell_type": "code",
      "source": [
        "type(df)"
      ],
      "metadata": {
        "id": "pIdSO4o_QNdk"
      },
      "execution_count": null,
      "outputs": []
    },
    {
      "cell_type": "code",
      "source": [
        "### Quebrando o array df em 3 arrays menores\n",
        "# columns:['time','temp']\n",
        "# index:[],\n",
        "# data:[]"
      ],
      "metadata": {
        "id": "X4y3NztqQUHw"
      },
      "execution_count": null,
      "outputs": []
    },
    {
      "cell_type": "code",
      "source": [
        "teste = df  # varival teste rescebe o data frame df\n",
        "display(teste) # Exibe o Dataframe já quebrado"
      ],
      "metadata": {
        "id": "PIwkuSFrQWPD"
      },
      "execution_count": null,
      "outputs": []
    },
    {
      "cell_type": "code",
      "source": [
        "type(teste)"
      ],
      "metadata": {
        "id": "WCg2w5KRQczS"
      },
      "execution_count": null,
      "outputs": []
    },
    {
      "cell_type": "markdown",
      "source": [
        "# Separação dos dados para o teste(linha data:dt)"
      ],
      "metadata": {
        "id": "GhuSEIAyj7sF"
      }
    },
    {
      "cell_type": "code",
      "source": [
        "id = teste['index'] # cria o array id com os dados de index\n",
        "print(id)"
      ],
      "metadata": {
        "id": "th5PIZgEQiD7"
      },
      "execution_count": null,
      "outputs": []
    },
    {
      "cell_type": "code",
      "source": [
        "cl = teste['columns'] #cria o array cl com os dados de columns\n",
        "print(cl)"
      ],
      "metadata": {
        "id": "iPdO8MRIRtni"
      },
      "execution_count": null,
      "outputs": []
    },
    {
      "cell_type": "code",
      "source": [
        "dt = teste['data']  #cria o array de dt com os dados de data\n",
        "print(dt)"
      ],
      "metadata": {
        "id": "CXLDTNizRxNG"
      },
      "execution_count": null,
      "outputs": []
    },
    {
      "cell_type": "code",
      "source": [
        "type(dt)"
      ],
      "metadata": {
        "id": "_Rmy3uKEVN1c"
      },
      "execution_count": null,
      "outputs": []
    },
    {
      "cell_type": "markdown",
      "source": [
        "# Conversão dos dados(Lista/Pandas Python)"
      ],
      "metadata": {
        "id": "L5TFNILHkYsL"
      }
    },
    {
      "cell_type": "code",
      "source": [
        "### Convertendo os arrays em colunas\n",
        "\n",
        "### Converter a lista em um DataFrame do Pandas em Python\n",
        "##  Converte o dt  em colunas\n",
        "\n",
        "df_dt = pd.DataFrame(dt)\n",
        "print(df_dt)"
      ],
      "metadata": {
        "id": "XQopFyEVR0xO"
      },
      "execution_count": null,
      "outputs": []
    },
    {
      "cell_type": "code",
      "source": [
        "type(df_dt)"
      ],
      "metadata": {
        "id": "O3So3R32VKZY"
      },
      "execution_count": null,
      "outputs": []
    },
    {
      "cell_type": "code",
      "source": [
        "display(df_dt) # Exibe o Dataframe\n"
      ],
      "metadata": {
        "id": "g1fH_ovgSKe1"
      },
      "execution_count": null,
      "outputs": []
    },
    {
      "cell_type": "code",
      "source": [
        "type(df_dt)"
      ],
      "metadata": {
        "id": "pj1nFQrRUNiK"
      },
      "execution_count": null,
      "outputs": []
    },
    {
      "cell_type": "markdown",
      "source": [
        "# Renomeando as Colunas('0','1'//'time','temp')"
      ],
      "metadata": {
        "id": "F3hpDRqPk1TM"
      }
    },
    {
      "cell_type": "code",
      "source": [
        "### Renomear Colunas Dataset\n",
        "###'time', 'temp'\n",
        "#example_df.columns = ['Name','Age','Roll_no']\n",
        "\n",
        "df_dt.columns = ['time', 'temp']  #Renomeia as Colunas do DataSet\n",
        "display(df_dt) # Exibe o Dataframe"
      ],
      "metadata": {
        "id": "I1YXJqcSSVLT"
      },
      "execution_count": null,
      "outputs": []
    },
    {
      "cell_type": "code",
      "source": [
        "##### Apenas o Dataset Temp\n",
        "#### Cria o Novo DataSet df_temp, com uma coluna 'temp'\n",
        "\n",
        "df_temp = df_dt['temp'] #Cria o novo df com a coluna temp\n",
        "df_temp.head(10)  #Exibir 10 ou mais valores do dataframe"
      ],
      "metadata": {
        "id": "vEJK20RSWseI"
      },
      "execution_count": null,
      "outputs": []
    },
    {
      "cell_type": "code",
      "source": [
        "##### Verificando os valores e colunas #####\n",
        "\n",
        "#display(df_temp) # Exibe o Dataframe\n",
        "\n",
        "#print(df_temp.isna().any()) # Exibe como True ou False os valores nan do Dataframe\n",
        "#print(df_temp.isna().sum()) # Exibe a soma dos valores nan no Dataframe\n",
        "#df_temp.head()\n",
        "#df_temp.info(verbose=True)\n",
        "#print(df_temp.info())\n",
        "#df_temp.shape\n",
        "#df_temp.isna().sum()\n",
        "#df_temp.isnull().sum()\n",
        "#type(df_temp)"
      ],
      "metadata": {
        "id": "6TZwB5UUXW2e"
      },
      "execution_count": null,
      "outputs": []
    },
    {
      "cell_type": "markdown",
      "source": [
        "# --------------------------------------------------------------------------------"
      ],
      "metadata": {
        "id": "kUVvL601muyL"
      }
    },
    {
      "cell_type": "markdown",
      "source": [
        "#Iniciando o Tratamento dos Dados(missing data)"
      ],
      "metadata": {
        "id": "praD93mEpklV"
      }
    },
    {
      "cell_type": "code",
      "source": [
        "# Opcao 1 - Excluir valores ausentes\n",
        "# Opcao 2 - Preencher valores ausentes\n",
        "# Opcao 2.1 - Extrair a mediana da coluna LotFrontage e preencher os valores faltantes com ela.\n",
        "# Opcao 2.2 - Verificar qual o valor mais frequente e usar ele no preenchimento.\n",
        "# Opcao 3 - Construir um modelo preditivo para missing values.\n"
      ],
      "metadata": {
        "id": "E_EE43aqSf_N"
      },
      "execution_count": null,
      "outputs": []
    },
    {
      "cell_type": "code",
      "source": [
        "import numpy as np"
      ],
      "metadata": {
        "id": "1DeRwIbnSnqF"
      },
      "execution_count": 129,
      "outputs": []
    },
    {
      "cell_type": "code",
      "source": [
        "print('Media:', np.mean(df_dt))\n",
        "print('Desvio Padrao:', np.std(df_dt))\n",
        "print('Coeficiente variacao:', np.std(df_dt)/np.mean(df_dt))"
      ],
      "metadata": {
        "id": "Gsvh62ysSo-0"
      },
      "execution_count": null,
      "outputs": []
    },
    {
      "cell_type": "markdown",
      "source": [
        "# --------------------------------------------------------------------------------"
      ],
      "metadata": {
        "id": "gmIa9rbbfAZ6"
      }
    },
    {
      "cell_type": "markdown",
      "source": [
        "# Identificando Dados Faltantes | Tecnica I (fillna)"
      ],
      "metadata": {
        "id": "gLZ6eqUWU8Cf"
      }
    },
    {
      "cell_type": "code",
      "source": [
        "### Identificando Dados Faltantes\n",
        "\n",
        "df_dt = pd.DataFrame(dt)#conversao em colunas\n",
        "df_dt.columns = ['time', 'temp']  #Renomeia as Colunas do DataSet\n",
        "display(df_dt)#Exibe o dataframe"
      ],
      "metadata": {
        "id": "iAtlJVaibC_w"
      },
      "execution_count": null,
      "outputs": []
    },
    {
      "cell_type": "code",
      "source": [
        "### Identificando Dados Faltantes\n",
        "## Tecnica de fillna | Substitui os dados faltantes por um valor especifico\n",
        "\n",
        "df_tec1 = pd.DataFrame(df_dt) #df_tec1 recebe o dataframe df_dt\n",
        "df_tec1\n"
      ],
      "metadata": {
        "id": "IYScsV1MS6Rr"
      },
      "execution_count": null,
      "outputs": []
    },
    {
      "cell_type": "code",
      "source": [
        "df_tec1['temp'].fillna(8.3, inplace=True) # troquei os valores faltantes por 8.3\n",
        "df_tec1"
      ],
      "metadata": {
        "id": "T0Hgo3rbWVeK"
      },
      "execution_count": null,
      "outputs": []
    },
    {
      "cell_type": "code",
      "source": [
        "##  Conversor Valores float / int\n",
        "\n",
        "df_tec1['temp'].astype(np.int64) # converte os valores de float para int\n",
        "df_tec1.info(verbose=True)"
      ],
      "metadata": {
        "id": "msBh8tGsr9_l"
      },
      "execution_count": null,
      "outputs": []
    },
    {
      "cell_type": "markdown",
      "source": [
        "Protar o Grafico"
      ],
      "metadata": {
        "id": "QprIeKwcy4VL"
      }
    },
    {
      "cell_type": "code",
      "source": [
        "#### Protar o Grafico\n",
        "##  Reseta os valores de df_dt\n",
        "\n",
        "df_dt = pd.DataFrame(dt)#conversao em colunas\n",
        "df_dt.columns = ['time', 'temp']  #Renomeia as Colunas do DataSet\n",
        "display(df_dt)#Exibe o dataframe"
      ],
      "metadata": {
        "id": "M4UD2iX0wQhM"
      },
      "execution_count": null,
      "outputs": []
    },
    {
      "cell_type": "code",
      "source": [
        "# Exibe um grafico de barras com os dados time e temp\n",
        "\n",
        "#missingno.bar(df_dt) # Antes de tratar\n",
        "missingno.bar(df_tec1) # Depois de tratar"
      ],
      "metadata": {
        "id": "S8bwU06OwigY"
      },
      "execution_count": null,
      "outputs": []
    },
    {
      "cell_type": "code",
      "source": [
        "# Exibe um grafico de barras com os dados time e temp, Mostrando em que local os dados estao faltando\n",
        "\n",
        "#missingno.matrix(df_dt) # Antes de Tratar\n",
        "missingno.matrix(df_tec1) # Depois d eTratar"
      ],
      "metadata": {
        "id": "GrVpsMa1wpin"
      },
      "execution_count": null,
      "outputs": []
    },
    {
      "cell_type": "markdown",
      "source": [
        "# -------------------------------------------------------------------------------\n",
        "\n",
        "# Identificando Dados Faltantes | Tecnica II  (media)"
      ],
      "metadata": {
        "id": "K16KWiuQXcp_"
      }
    },
    {
      "cell_type": "code",
      "source": [
        "### Identificando Dados Faltantes\n",
        "\n",
        "df_dt = pd.DataFrame(dt)#conversao em colunas\n",
        "df_dt.columns = ['time', 'temp']  #Renomeia as Colunas do DataSet\n",
        "display(df_dt)#Exibe o dataframe"
      ],
      "metadata": {
        "id": "AmxbCrN2aqN1"
      },
      "execution_count": null,
      "outputs": []
    },
    {
      "cell_type": "code",
      "source": [
        "### Identificando Dados Faltantes\n",
        "## Tecnica de fillna | Substitui os dados faltantes por um valor especifico\n",
        "\n",
        "df_tec2 = pd.DataFrame(df_dt) #df_tec2 recebe o dataframe df_dt\n",
        "df_tec2"
      ],
      "metadata": {
        "id": "hrrazH_yWZ9K"
      },
      "execution_count": null,
      "outputs": []
    },
    {
      "cell_type": "code",
      "source": [
        "#df['coluna'].fillna(df['coluna'].mean(), inplace=True)\n",
        "\n",
        "df_tec2['temp'].fillna(df_tec2['temp'].mean(), inplace=True) # troquei os valores faltantes por 8.3\n",
        "df_tec2"
      ],
      "metadata": {
        "id": "r0HEOC53Su1U"
      },
      "execution_count": null,
      "outputs": []
    },
    {
      "cell_type": "code",
      "source": [
        "##  Conversor Valores float / int\n",
        "\n",
        "df_tec2['temp'].astype(np.int64) # converte os valores de float para int\n",
        "df_tec2.info(verbose=True)"
      ],
      "metadata": {
        "id": "icGLGRvIxzgZ"
      },
      "execution_count": null,
      "outputs": []
    },
    {
      "cell_type": "code",
      "source": [
        "#### Protar o Grafico\n",
        "##  Reseta os valores de df_dt\n",
        "\n",
        "df_dt = pd.DataFrame(dt)#conversao em colunas\n",
        "df_dt.columns = ['time', 'temp']  #Renomeia as Colunas do DataSet\n",
        "display(df_dt)#Exibe o dataframe"
      ],
      "metadata": {
        "id": "yqxYsaVyyEyb"
      },
      "execution_count": null,
      "outputs": []
    },
    {
      "cell_type": "code",
      "source": [
        "# Exibe um grafico de barras com os dados time e temp\n",
        "\n",
        "missingno.bar(df_dt) # Antes de tratar\n",
        "#missingno.bar(df_tec1) # Depois de tratar"
      ],
      "metadata": {
        "id": "gUbFvtXSyG8z"
      },
      "execution_count": null,
      "outputs": []
    },
    {
      "cell_type": "code",
      "source": [
        "# Exibe um grafico de barras com os dados time e temp, Mostrando em que local os dados estao faltando\n",
        "\n",
        "#missingno.matrix(df_dt) # Antes de Tratar\n",
        "missingno.matrix(df_tec1) # Depois d eTratar"
      ],
      "metadata": {
        "id": "734CwXIhyJqj"
      },
      "execution_count": null,
      "outputs": []
    },
    {
      "cell_type": "markdown",
      "source": [
        "# ------------------------------------------------------------------------------"
      ],
      "metadata": {
        "id": "ZnmF_XSte6sR"
      }
    },
    {
      "cell_type": "markdown",
      "source": [
        "# Identificando Dados Faltantes | Tecnica III (xxx)"
      ],
      "metadata": {
        "id": "oW0CsznEe5Ai"
      }
    },
    {
      "cell_type": "code",
      "source": [
        "### Identificando Dados Faltantes\n",
        "\n",
        "df_dt = pd.DataFrame(dt)#conversao em colunas\n",
        "df_dt.columns = ['time', 'temp']  #Renomeia as Colunas do DataSet\n",
        "display(df_dt)#Exibe o dataframe"
      ],
      "metadata": {
        "id": "8L-KRWq1Umhn"
      },
      "execution_count": null,
      "outputs": []
    },
    {
      "cell_type": "code",
      "source": [
        "### Identificando Dados Faltantes\n",
        "## Tecnica de fillna | Substitui os dados faltantes por um valor especifico\n",
        "\n",
        "df_tec3 = pd.DataFrame(df_dt) #df_tec2 recebe o dataframe df_dt\n",
        "df_tec3"
      ],
      "metadata": {
        "id": "KZI4NQQbe4AR"
      },
      "execution_count": null,
      "outputs": []
    },
    {
      "cell_type": "code",
      "source": [
        "#df['coluna'].fillna(df['coluna'].mean(), inplace=True)\n",
        "\n",
        "df_tec3['temp'].fillna(df_tec2['temp'].mean(), inplace=True) # troquei os valores faltantes por 8.3\n",
        "df_tec3"
      ],
      "metadata": {
        "id": "CIpVP0zNe374"
      },
      "execution_count": null,
      "outputs": []
    },
    {
      "cell_type": "markdown",
      "source": [
        "# --------------------------------------------------------------------------------\n"
      ],
      "metadata": {
        "id": "DZeDpLTyxDXW"
      }
    },
    {
      "cell_type": "markdown",
      "source": [
        "#Manipulando dados ausentes com imputação univariada usando pandas"
      ],
      "metadata": {
        "id": "C_WUXfAMxJb-"
      }
    },
    {
      "cell_type": "code",
      "source": [
        "### Identificando Dados Faltantes\n",
        "\n",
        "df_dt = pd.DataFrame(dt)#conversao em colunas\n",
        "df_dt.columns = ['time', 'temp']  #Renomeia as Colunas do DataSet\n",
        "display(df_dt)#Exibe o dataframe"
      ],
      "metadata": {
        "id": "UKSa2W2GiR_Q"
      },
      "execution_count": null,
      "outputs": []
    },
    {
      "cell_type": "code",
      "source": [
        "df_tec1"
      ],
      "metadata": {
        "id": "Z7pSxXVM5Mu_"
      },
      "execution_count": null,
      "outputs": []
    },
    {
      "cell_type": "code",
      "source": [
        "def plot_df(df_tec1, df_dt, temp, titulo=None, xlabel=None, ylabel=None):\n",
        "    '''\t\n",
        "    df1: dataframe original (sem dados faltantes)\n",
        "    df2: dataframe com dados faltantes\n",
        "    col: nome da coluna que contém dados faltantes\n",
        "    '''    \n",
        "    df_f = df_dt.rename(columns={col: 'temp'})\n",
        "    \n",
        "    colunas = df_f.loc[:, 'temp':].columns.tolist()\n",
        "    subplots_t = len(colunas)\n",
        "   \n",
        "    fig, ax = plt.subplots(subplots_t+1, 1, sharex=True)\n",
        "    plt.subplots_adjust(hspace=0.25)\n",
        "    fig.suptitle = titulo \n",
        "    \n",
        "    df_tec1[col].plot(ax=ax[0], figsize=(10, 16))\n",
        "    ax[0].set_title('Dataset Original')\n",
        "    ax[0].set_xlabel(xlabel)\n",
        "    ax[0].set_ylabel(ylabel)    \n",
        "    \n",
        "    for i, nomecol in enumerate(colunas):\n",
        "        df_f[nomecol].plot(ax=ax[i+1])\n",
        "        ax[i+1].set_title(nomecol)\n",
        "\n",
        "    plt.show()"
      ],
      "metadata": {
        "id": "Loa85t-U74wA"
      },
      "execution_count": 251,
      "outputs": []
    },
    {
      "cell_type": "code",
      "source": [
        "def indice_rmse(df_tec1, df_dt, col=None):\n",
        "    '''\n",
        "    df1: dataframe original (sem dados faltantes)\n",
        "    df2: dataframe com dados faltantes\n",
        "    col: nome da coluna que contém dados faltantes\n",
        "\n",
        "    retorna: a lista de índices\n",
        "    '''\n",
        "    df_f = df_dt.rename(columns={col: 'temp'})\n",
        "    colunas = df_f.loc[:, 'temp':].columns.tolist()\n",
        "    scores = []\n",
        "    for comp_col in df_f[1:]:\n",
        "        rmse = np.sqrt(np.mean((df_tec1[col] - df_f[comp_col])**2))\n",
        "        scores.append(rmse)\n",
        "        print(f'RMSE de {comp_col}: {rmse}')\n",
        "    return scores"
      ],
      "metadata": {
        "id": "HSMWK6-y6x74"
      },
      "execution_count": 252,
      "outputs": []
    },
    {
      "cell_type": "code",
      "source": [
        "plot_df(df_tec1, df_dt, 'temp')"
      ],
      "metadata": {
        "id": "AsPFsqP_ovm2"
      },
      "execution_count": null,
      "outputs": []
    },
    {
      "cell_type": "code",
      "source": [
        "df_dt['ffill'] = df_dt['temp'].fillna(method='ffill')\n",
        "df_dt['bfill'] = df_dt['temp'].fillna(method='bfill')\n",
        "df_dt['mean'] = df_dt['temp'].fillna(df_dt['temp'].mean())"
      ],
      "metadata": {
        "id": "xrhz1ccp5eG6"
      },
      "execution_count": 245,
      "outputs": []
    },
    {
      "cell_type": "code",
      "source": [
        "#Calculando o erro quadrático médio\n",
        "esse = indice_rmse(df_tec1, \n",
        "                    df_dt, \n",
        "                    'temp')"
      ],
      "metadata": {
        "id": "GnrDFnqR6Y_v"
      },
      "execution_count": null,
      "outputs": []
    }
  ]
}